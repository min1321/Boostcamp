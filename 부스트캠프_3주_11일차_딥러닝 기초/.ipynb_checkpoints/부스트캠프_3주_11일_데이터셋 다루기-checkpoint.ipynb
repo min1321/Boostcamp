{
 "cells": [
  {
   "cell_type": "markdown",
   "metadata": {},
   "source": [
    "# 데이터 셋 다루기"
   ]
  },
  {
   "cell_type": "markdown",
   "metadata": {},
   "source": [
    "### 추가로 해볼 것\n",
    "- NotMNIST 데이터을 다루는 Dataset class를 만듭니다.\n",
    "\n",
    "- 데이터셋 파일이 없을 때는 데이터 셋을 download하는 코드를 개발합니다.\n",
    "\n",
    "- 데이터를 Train / Test로 분리할 수 있도록 Dataset을 클래스를 작성합니다.\n",
    "\n",
    "- 데이터에서 array를 읽어올 때는 PIL 등의 모듈을 사용할 수 있습니다."
   ]
  },
  {
   "cell_type": "markdown",
   "metadata": {},
   "source": [
    "- Network을 만드는 이유\n",
    "    - Model을 여러개를 만들고, input model output 연결해 가면서 조절하기 쉬워서\n",
    "    - 최성철 교수님은 이런 모델을 선호함"
   ]
  },
  {
   "cell_type": "markdown",
   "metadata": {},
   "source": [
    "- pytorch를 terminal 환경에서 SSH로 실행을 꼭 해보세요"
   ]
  },
  {
   "cell_type": "markdown",
   "metadata": {},
   "source": [
    "- 권장 : NotMNIST 자료로 데이터셋 받아와서 다루는 것 연습해보기"
   ]
  },
  {
   "cell_type": "code",
   "execution_count": null,
   "metadata": {},
   "outputs": [],
   "source": []
  }
 ],
 "metadata": {
  "kernelspec": {
   "display_name": "Python 3",
   "language": "python",
   "name": "python3"
  },
  "language_info": {
   "codemirror_mode": {
    "name": "ipython",
    "version": 3
   },
   "file_extension": ".py",
   "mimetype": "text/x-python",
   "name": "python",
   "nbconvert_exporter": "python",
   "pygments_lexer": "ipython3",
   "version": "3.8.5"
  }
 },
 "nbformat": 4,
 "nbformat_minor": 4
}
