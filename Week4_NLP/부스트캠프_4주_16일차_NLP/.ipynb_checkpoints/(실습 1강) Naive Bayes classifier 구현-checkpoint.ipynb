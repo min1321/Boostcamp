{
 "cells": [
  {
   "cell_type": "markdown",
   "metadata": {},
   "source": [
    "# 실습에서 중요하게 생각해볼점\n",
    "- Naive_bayes 실습 Process\n",
    "    - 데이터 전처리 (토크나이즈, dict 구성으로 단어의 idex 부여)\n",
    "    - 베이즈 정리를 이용하기 위한 liklihood와 priors(사전확률) 함수로 구현\n",
    "        - Smoothing 을 k 값으로 주는데 Smoothing이 무엇인지?"
   ]
  },
  {
   "cell_type": "markdown",
   "metadata": {},
   "source": [
    "## **1. NaiveBayes Classifier**\n",
    "1. 주어진 데이터를 전처리합니다.\n",
    "2. NaiveBayes 분류기 모델을 구현하고 학습 데이터로 이를 학습시킵니다.\n",
    "3. 간단한 test case로 결과를 확인합니다."
   ]
  },
  {
   "cell_type": "markdown",
   "metadata": {},
   "source": [
    "### **필요 패키지 import**"
   ]
  },
  {
   "cell_type": "code",
   "execution_count": 1,
   "metadata": {},
   "outputs": [
    {
     "name": "stdout",
     "output_type": "stream",
     "text": [
      "Requirement already satisfied: konlpy in c:\\users\\mello\\anaconda3\\lib\\site-packages (0.5.2)\n",
      "Requirement already satisfied: JPype1>=0.7.0 in c:\\users\\mello\\anaconda3\\lib\\site-packages (from konlpy) (1.2.0)\n",
      "Requirement already satisfied: tweepy>=3.7.0 in c:\\users\\mello\\anaconda3\\lib\\site-packages (from konlpy) (3.10.0)\n",
      "Requirement already satisfied: numpy>=1.6 in c:\\users\\mello\\anaconda3\\lib\\site-packages (from konlpy) (1.18.5)\n",
      "Requirement already satisfied: colorama in c:\\users\\mello\\anaconda3\\lib\\site-packages (from konlpy) (0.4.4)\n",
      "Requirement already satisfied: beautifulsoup4==4.6.0 in c:\\users\\mello\\anaconda3\\lib\\site-packages (from konlpy) (4.6.0)\n",
      "Requirement already satisfied: lxml>=4.1.0 in c:\\users\\mello\\anaconda3\\lib\\site-packages (from konlpy) (4.6.1)\n",
      "Requirement already satisfied: requests-oauthlib>=0.7.0 in c:\\users\\mello\\anaconda3\\lib\\site-packages (from tweepy>=3.7.0->konlpy) (1.3.0)\n",
      "Requirement already satisfied: requests[socks]>=2.11.1 in c:\\users\\mello\\anaconda3\\lib\\site-packages (from tweepy>=3.7.0->konlpy) (2.24.0)\n",
      "Requirement already satisfied: six>=1.10.0 in c:\\users\\mello\\anaconda3\\lib\\site-packages (from tweepy>=3.7.0->konlpy) (1.15.0)\n",
      "Requirement already satisfied: oauthlib>=3.0.0 in c:\\users\\mello\\anaconda3\\lib\\site-packages (from requests-oauthlib>=0.7.0->tweepy>=3.7.0->konlpy) (3.1.0)\n",
      "Requirement already satisfied: idna<3,>=2.5 in c:\\users\\mello\\anaconda3\\lib\\site-packages (from requests[socks]>=2.11.1->tweepy>=3.7.0->konlpy) (2.10)\n",
      "Requirement already satisfied: chardet<4,>=3.0.2 in c:\\users\\mello\\anaconda3\\lib\\site-packages (from requests[socks]>=2.11.1->tweepy>=3.7.0->konlpy) (3.0.4)\n",
      "Requirement already satisfied: certifi>=2017.4.17 in c:\\users\\mello\\anaconda3\\lib\\site-packages (from requests[socks]>=2.11.1->tweepy>=3.7.0->konlpy) (2020.6.20)\n",
      "Requirement already satisfied: urllib3!=1.25.0,!=1.25.1,<1.26,>=1.21.1 in c:\\users\\mello\\anaconda3\\lib\\site-packages (from requests[socks]>=2.11.1->tweepy>=3.7.0->konlpy) (1.25.11)\n",
      "Requirement already satisfied: PySocks!=1.5.7,>=1.5.6 in c:\\users\\mello\\anaconda3\\lib\\site-packages (from requests[socks]>=2.11.1->tweepy>=3.7.0->konlpy) (1.7.1)\n"
     ]
    }
   ],
   "source": [
    "!pip install konlpy"
   ]
  },
  {
   "cell_type": "code",
   "execution_count": 2,
   "metadata": {},
   "outputs": [],
   "source": [
    "from tqdm import tqdm\n",
    "from konlpy import tag # 다양한 한국어 형태소 분석기가 클래스로 구현되어 있음\n",
    "from collections import defaultdict\n",
    "\n",
    "import math"
   ]
  },
  {
   "cell_type": "markdown",
   "metadata": {},
   "source": [
    "### **학습 및 테스트 데이터 전처리**"
   ]
  },
  {
   "cell_type": "markdown",
   "metadata": {},
   "source": [
    "Sample 데이터를 확인합니다.  \n",
    "긍정($1$), 부정($0$) 2가지 class로 구성되어 있습니다."
   ]
  },
  {
   "cell_type": "code",
   "execution_count": 3,
   "metadata": {},
   "outputs": [],
   "source": [
    "train_data = [\n",
    "  \"정말 맛있습니다. 추천합니다.\",\n",
    "  \"기대했던 것보단 별로였네요.\",\n",
    "  \"다 좋은데 가격이 너무 비싸서 다시 가고 싶다는 생각이 안 드네요.\",\n",
    "  \"완전 최고입니다! 재방문 의사 있습니다.\",\n",
    "  \"음식도 서비스도 다 만족스러웠습니다.\",\n",
    "  \"위생 상태가 좀 별로였습니다. 좀 더 개선되기를 바랍니다.\",\n",
    "  \"맛도 좋았고 직원분들 서비스도 너무 친절했습니다.\",\n",
    "  \"기념일에 방문했는데 음식도 분위기도 서비스도 다 좋았습니다.\",\n",
    "  \"전반적으로 음식이 너무 짰습니다. 저는 별로였네요.\",\n",
    "  \"위생에 조금 더 신경 썼으면 좋겠습니다. 조금 불쾌했습니다.\"\n",
    "]\n",
    "train_labels = [1, 0, 0, 1, 1, 0, 1, 1, 0, 0]\n",
    "\n",
    "test_data = [\n",
    "  \"정말 좋았습니다. 또 가고 싶네요.\",\n",
    "  \"별로였습니다. 되도록 가지 마세요.\",\n",
    "  \"다른 분들께도 추천드릴 수 있을 만큼 만족했습니다.\",\n",
    "  \"서비스가 좀 더 개선되었으면 좋겠습니다. 기분이 좀 나빴습니다.\"\n",
    "]"
   ]
  },
  {
   "cell_type": "markdown",
   "metadata": {},
   "source": [
    "KoNLPy 패키지에서 제공하는 Twitter(Okt) tokenizer를 사용하여 tokenization합니다."
   ]
  },
  {
   "cell_type": "code",
   "execution_count": 4,
   "metadata": {},
   "outputs": [],
   "source": [
    "tokenizer = tag.Okt()"
   ]
  },
  {
   "cell_type": "code",
   "execution_count": 5,
   "metadata": {},
   "outputs": [],
   "source": [
    "def make_tokenized(data):\n",
    "  tokenized = []  # 단어 단위로 나뉜 리뷰 데이터.\n",
    "\n",
    "  for sent in tqdm(data):\n",
    "    tokens = tokenizer.morphs(sent)\n",
    "    tokenized.append(tokens)\n",
    "\n",
    "  return tokenized"
   ]
  },
  {
   "cell_type": "code",
   "execution_count": 6,
   "metadata": {},
   "outputs": [
    {
     "name": "stderr",
     "output_type": "stream",
     "text": [
      "100%|█████████████████████████████████████████████████████████████████████████████████████████████████████████████████████████████████████████████████████████████████████████████| 10/10 [00:04<00:00,  2.34it/s]\n",
      "100%|███████████████████████████████████████████████████████████████████████████████████████████████████████████████████████████████████████████████████████████████████████████████| 4/4 [00:00<00:00, 80.01it/s]\n"
     ]
    }
   ],
   "source": [
    "train_tokenized = make_tokenized(train_data)\n",
    "test_tokenized = make_tokenized(test_data)"
   ]
  },
  {
   "cell_type": "code",
   "execution_count": 7,
   "metadata": {},
   "outputs": [
    {
     "data": {
      "text/plain": [
       "[['정말', '맛있습니다', '.', '추천', '합니다', '.'],\n",
       " ['기대했던', '것', '보단', '별로', '였네요', '.'],\n",
       " ['다',\n",
       "  '좋은데',\n",
       "  '가격',\n",
       "  '이',\n",
       "  '너무',\n",
       "  '비싸서',\n",
       "  '다시',\n",
       "  '가고',\n",
       "  '싶다는',\n",
       "  '생각',\n",
       "  '이',\n",
       "  '안',\n",
       "  '드네',\n",
       "  '요',\n",
       "  '.'],\n",
       " ['완전', '최고', '입니다', '!', '재', '방문', '의사', '있습니다', '.'],\n",
       " ['음식', '도', '서비스', '도', '다', '만족스러웠습니다', '.'],\n",
       " ['위생',\n",
       "  '상태',\n",
       "  '가',\n",
       "  '좀',\n",
       "  '별로',\n",
       "  '였습니다',\n",
       "  '.',\n",
       "  '좀',\n",
       "  '더',\n",
       "  '개선',\n",
       "  '되',\n",
       "  '기를',\n",
       "  '바랍니다',\n",
       "  '.'],\n",
       " ['맛', '도', '좋았고', '직원', '분들', '서비스', '도', '너무', '친절했습니다', '.'],\n",
       " ['기념일',\n",
       "  '에',\n",
       "  '방문',\n",
       "  '했는데',\n",
       "  '음식',\n",
       "  '도',\n",
       "  '분위기',\n",
       "  '도',\n",
       "  '서비스',\n",
       "  '도',\n",
       "  '다',\n",
       "  '좋았습니다',\n",
       "  '.'],\n",
       " ['전반', '적', '으로', '음식', '이', '너무', '짰습니다', '.', '저', '는', '별로', '였네요', '.'],\n",
       " ['위생', '에', '조금', '더', '신경', '썼으면', '좋겠습니다', '.', '조금', '불쾌했습니다', '.']]"
      ]
     },
     "execution_count": 7,
     "metadata": {},
     "output_type": "execute_result"
    }
   ],
   "source": [
    "train_tokenized"
   ]
  },
  {
   "cell_type": "code",
   "execution_count": 8,
   "metadata": {},
   "outputs": [
    {
     "name": "stderr",
     "output_type": "stream",
     "text": [
      "100%|█████████████████████████████████████████████████████████████████████████████████████████████████████████████████████████████████████████████████████████████████████████████████████| 10/10 [00:00<?, ?it/s]\n"
     ]
    }
   ],
   "source": [
    "word_count = defaultdict(int)  # Key: 단어, Value: 등장 횟수\n",
    "\n",
    "for tokens in tqdm(train_tokenized):\n",
    "  for token in tokens:\n",
    "    word_count[token] += 1"
   ]
  },
  {
   "cell_type": "code",
   "execution_count": 9,
   "metadata": {},
   "outputs": [
    {
     "name": "stdout",
     "output_type": "stream",
     "text": [
      "66\n"
     ]
    }
   ],
   "source": [
    "word_count = sorted(word_count.items(), key=lambda x: x[1], reverse=True)\n",
    "print(len(word_count))"
   ]
  },
  {
   "cell_type": "code",
   "execution_count": 11,
   "metadata": {},
   "outputs": [
    {
     "name": "stderr",
     "output_type": "stream",
     "text": [
      "100%|█████████████████████████████████████████████████████████████████████████████████████████████████████████████████████████████████████████████████████████████████████████████████████| 66/66 [00:00<?, ?it/s]\n"
     ]
    }
   ],
   "source": [
    "w2i = {}  # Key: 단어, Value: 단어의 index\n",
    "for pair in tqdm(word_count):\n",
    "  if pair[0] not in w2i:\n",
    "    w2i[pair[0]] = len(w2i)"
   ]
  },
  {
   "cell_type": "code",
   "execution_count": 12,
   "metadata": {},
   "outputs": [
    {
     "data": {
      "text/plain": [
       "66"
      ]
     },
     "execution_count": 12,
     "metadata": {},
     "output_type": "execute_result"
    }
   ],
   "source": [
    "len(w2i)"
   ]
  },
  {
   "cell_type": "code",
   "execution_count": 13,
   "metadata": {},
   "outputs": [
    {
     "data": {
      "text/plain": [
       "{'.': 0,\n",
       " '도': 1,\n",
       " '별로': 2,\n",
       " '다': 3,\n",
       " '이': 4,\n",
       " '너무': 5,\n",
       " '음식': 6,\n",
       " '서비스': 7,\n",
       " '였네요': 8,\n",
       " '방문': 9,\n",
       " '위생': 10,\n",
       " '좀': 11,\n",
       " '더': 12,\n",
       " '에': 13,\n",
       " '조금': 14,\n",
       " '정말': 15,\n",
       " '맛있습니다': 16,\n",
       " '추천': 17,\n",
       " '합니다': 18,\n",
       " '기대했던': 19,\n",
       " '것': 20,\n",
       " '보단': 21,\n",
       " '좋은데': 22,\n",
       " '가격': 23,\n",
       " '비싸서': 24,\n",
       " '다시': 25,\n",
       " '가고': 26,\n",
       " '싶다는': 27,\n",
       " '생각': 28,\n",
       " '안': 29,\n",
       " '드네': 30,\n",
       " '요': 31,\n",
       " '완전': 32,\n",
       " '최고': 33,\n",
       " '입니다': 34,\n",
       " '!': 35,\n",
       " '재': 36,\n",
       " '의사': 37,\n",
       " '있습니다': 38,\n",
       " '만족스러웠습니다': 39,\n",
       " '상태': 40,\n",
       " '가': 41,\n",
       " '였습니다': 42,\n",
       " '개선': 43,\n",
       " '되': 44,\n",
       " '기를': 45,\n",
       " '바랍니다': 46,\n",
       " '맛': 47,\n",
       " '좋았고': 48,\n",
       " '직원': 49,\n",
       " '분들': 50,\n",
       " '친절했습니다': 51,\n",
       " '기념일': 52,\n",
       " '했는데': 53,\n",
       " '분위기': 54,\n",
       " '좋았습니다': 55,\n",
       " '전반': 56,\n",
       " '적': 57,\n",
       " '으로': 58,\n",
       " '짰습니다': 59,\n",
       " '저': 60,\n",
       " '는': 61,\n",
       " '신경': 62,\n",
       " '썼으면': 63,\n",
       " '좋겠습니다': 64,\n",
       " '불쾌했습니다': 65}"
      ]
     },
     "execution_count": 13,
     "metadata": {},
     "output_type": "execute_result"
    }
   ],
   "source": [
    "w2i"
   ]
  },
  {
   "cell_type": "markdown",
   "metadata": {},
   "source": [
    "### **모델 Class 구현**"
   ]
  },
  {
   "cell_type": "markdown",
   "metadata": {},
   "source": [
    "NaiveBayes Classifier 모델 클래스를 구현합니다.\n",
    "\n",
    "*   `self.k`: Smoothing을 위한 상수.\n",
    "*   `self.w2i`: 사전에 구한 vocab.\n",
    "*   `self.priors`: 각 class의 prior 확률.\n",
    "*   `self.likelihoods`: 각 token의 특정 class 조건 내에서의 likelihood."
   ]
  },
  {
   "cell_type": "code",
   "execution_count": 14,
   "metadata": {},
   "outputs": [],
   "source": [
    "class NaiveBayesClassifier():\n",
    "  def __init__(self, w2i, k=0.1):\n",
    "    self.k = k\n",
    "    self.w2i = w2i\n",
    "    self.priors = {}\n",
    "    self.likelihoods = {}\n",
    "\n",
    "  def train(self, train_tokenized, train_labels):\n",
    "    self.set_priors(train_labels)  # Priors 계산.\n",
    "    self.set_likelihoods(train_tokenized, train_labels)  # Likelihoods 계산.\n",
    "\n",
    "  def inference(self, tokens):\n",
    "    # 계속 곱하면 0 이되는 것을 막기위해 log를 취해서 더하는 연산으로 변경\n",
    "    log_prob0 = 0.0\n",
    "    log_prob1 = 0.0\n",
    "\n",
    "    for token in tokens:\n",
    "      if token in self.likelihoods:  # 학습 당시 추가했던 단어에 대해서만 고려.\n",
    "        log_prob0 += math.log(self.likelihoods[token][0])\n",
    "        log_prob1 += math.log(self.likelihoods[token][1])\n",
    "\n",
    "    # 마지막에 prior를 고려.\n",
    "    log_prob0 += math.log(self.priors[0])\n",
    "    log_prob1 += math.log(self.priors[1])\n",
    "\n",
    "    if log_prob0 >= log_prob1:\n",
    "      return 0\n",
    "    else:\n",
    "      return 1\n",
    "\n",
    "  def set_priors(self, train_labels):\n",
    "    class_counts = defaultdict(int)\n",
    "    for label in tqdm(train_labels):\n",
    "      class_counts[label] += 1\n",
    "    \n",
    "    for label, count in class_counts.items():\n",
    "      self.priors[label] = class_counts[label] / len(train_labels)\n",
    "\n",
    "  def set_likelihoods(self, train_tokenized, train_labels):\n",
    "    token_dists = {}  # 각 단어의 특정 class 조건 하에서의 등장 횟수.\n",
    "    class_counts = defaultdict(int)  # 특정 class에서 등장한 모든 단어의 등장 횟수.\n",
    "\n",
    "    for i, label in enumerate(tqdm(train_labels)):\n",
    "      count = 0\n",
    "      for token in train_tokenized[i]:\n",
    "        if token in self.w2i:  # 학습 데이터로 구축한 vocab에 있는 token만 고려.\n",
    "          if token not in token_dists:\n",
    "            token_dists[token] = {0:0, 1:0}\n",
    "          token_dists[token][label] += 1\n",
    "          count += 1\n",
    "      class_counts[label] += count\n",
    "\n",
    "    for token, dist in tqdm(token_dists.items()):\n",
    "      if token not in self.likelihoods:\n",
    "        self.likelihoods[token] = {\n",
    "            0:(token_dists[token][0] + self.k) / (class_counts[0] + len(self.w2i)*self.k),\n",
    "            1:(token_dists[token][1] + self.k) / (class_counts[1] + len(self.w2i)*self.k),\n",
    "        }"
   ]
  },
  {
   "cell_type": "markdown",
   "metadata": {},
   "source": [
    "### **모델 학습**"
   ]
  },
  {
   "cell_type": "code",
   "execution_count": 15,
   "metadata": {},
   "outputs": [
    {
     "name": "stderr",
     "output_type": "stream",
     "text": [
      "100%|███████████████████████████████████████████████████████████████████████████████████████████████████████████████████████████████████████████████████████████████████████████| 10/10 [00:00<00:00, 9991.20it/s]\n",
      "100%|█████████████████████████████████████████████████████████████████████████████████████████████████████████████████████████████████████████████████████████████████████████████████████| 10/10 [00:00<?, ?it/s]\n",
      "100%|██████████████████████████████████████████████████████████████████████████████████████████████████████████████████████████████████████████████████████████████████████████| 66/66 [00:00<00:00, 65910.49it/s]\n"
     ]
    }
   ],
   "source": [
    "classifier = NaiveBayesClassifier(w2i)\n",
    "classifier.train(train_tokenized, train_labels)"
   ]
  },
  {
   "cell_type": "markdown",
   "metadata": {},
   "source": [
    "### **테스트**"
   ]
  },
  {
   "cell_type": "code",
   "execution_count": 16,
   "metadata": {},
   "outputs": [
    {
     "name": "stderr",
     "output_type": "stream",
     "text": [
      "100%|███████████████████████████████████████████████████████████████████████████████████████████████████████████████████████████████████████████████████████████████████████████████████████| 4/4 [00:00<?, ?it/s]\n"
     ]
    }
   ],
   "source": [
    "preds = []\n",
    "for test_tokens in tqdm(test_tokenized):\n",
    "  pred = classifier.inference(test_tokens)\n",
    "  preds.append(pred)"
   ]
  },
  {
   "cell_type": "code",
   "execution_count": 17,
   "metadata": {},
   "outputs": [
    {
     "data": {
      "text/plain": [
       "[1, 0, 1, 0]"
      ]
     },
     "execution_count": 17,
     "metadata": {},
     "output_type": "execute_result"
    }
   ],
   "source": [
    "preds"
   ]
  },
  {
   "cell_type": "code",
   "execution_count": null,
   "metadata": {},
   "outputs": [],
   "source": []
  }
 ],
 "metadata": {
  "kernelspec": {
   "display_name": "Python 3",
   "language": "python",
   "name": "python3"
  },
  "language_info": {
   "codemirror_mode": {
    "name": "ipython",
    "version": 3
   },
   "file_extension": ".py",
   "mimetype": "text/x-python",
   "name": "python",
   "nbconvert_exporter": "python",
   "pygments_lexer": "ipython3",
   "version": "3.8.5"
  }
 },
 "nbformat": 4,
 "nbformat_minor": 4
}
