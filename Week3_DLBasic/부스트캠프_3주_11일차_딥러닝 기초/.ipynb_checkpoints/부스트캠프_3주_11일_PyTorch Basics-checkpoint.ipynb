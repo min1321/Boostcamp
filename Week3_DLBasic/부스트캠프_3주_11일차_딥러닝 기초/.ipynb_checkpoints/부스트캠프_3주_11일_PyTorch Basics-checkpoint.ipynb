{
 "cells": [
  {
   "cell_type": "markdown",
   "metadata": {},
   "source": [
    "# PyTroch 설치 및 Colab VSCODE에서 사용하기\n",
    "- Colab에서 VS코드를 연동시키기 위한 설정을 따라하였음\n",
    "- PyTorch의 기본 에 대해 학습함"
   ]
  },
  {
   "cell_type": "markdown",
   "metadata": {},
   "source": [
    "## PyTorch 수업에서 중요하게 생각할 점 2가지\n",
    "- 1번 : 모르는 code가 나왔을 때, torch.nn.linear source code 처럼 source code 들어가서 읽어보고 이해하기\n",
    "- 2번 : PyTorch는 numpy와 유사하게 사용이 가능함 numpy에 대해서 학습을 잘 해둘 것"
   ]
  },
  {
   "cell_type": "code",
   "execution_count": null,
   "metadata": {},
   "outputs": [],
   "source": []
  }
 ],
 "metadata": {
  "kernelspec": {
   "display_name": "Python 3",
   "language": "python",
   "name": "python3"
  },
  "language_info": {
   "codemirror_mode": {
    "name": "ipython",
    "version": 3
   },
   "file_extension": ".py",
   "mimetype": "text/x-python",
   "name": "python",
   "nbconvert_exporter": "python",
   "pygments_lexer": "ipython3",
   "version": "3.8.5"
  }
 },
 "nbformat": 4,
 "nbformat_minor": 4
}
