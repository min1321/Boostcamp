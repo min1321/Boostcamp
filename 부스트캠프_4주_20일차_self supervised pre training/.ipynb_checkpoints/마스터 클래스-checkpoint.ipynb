{
 "cells": [
  {
   "cell_type": "markdown",
   "metadata": {},
   "source": [
    "### 좋은 논문 찾을 수 있는곳과 좋은 논문들\n",
    "- 좋은 논문 찾는 곳 : Raddit, Facebook\n",
    "- arxivsanity (cs231n Andrej Karpathy)\n",
    "- 알버트, 일렉트라 (논문들 가운데 우선순위가 높음, Full paper 읽기)\n",
    "- REALM\n",
    "- MEENA (Chat bot)\n",
    "- UniLM\n",
    "\n",
    "### 전처리 모델\n",
    "- PoRoRo 카카오 전처리 패키지로 알고있는데, 좋은 전처리 성능을 낸다고 알고있음\n",
    "\n",
    "### 비전공자 공부 우선순위\n",
    "- 컴퓨터 전반 배경지식은 공부하면 좋겠지만, 시간적으로 우선순위를 따져서, 딥러닝에 대해서 우선해서 공부할 것\n",
    "- 경쟁력은 공모전에서 입상을 하는 형태로 하는게 좋을듯\n",
    "- 실제 제품을 만들어 서비스하는 것은 상당히 노력이 많이 필요하고, 성과를 따지기가 어려워서 자신있으면 해라\n",
    "- 논문을 읽을때? : 빠르게 읽고 어떤 것이 핵심 기술이고, 어던 결과를 낸 것인지를 빠르게 캐치하는 능력이 필요할듯\n",
    "    - 스프린트? 에자일?\n",
    "\n",
    "### 추천시스템에서 Transformer 구조?\n",
    "- 마스킹을 해서 이사람이 1,2, 4,5번 영화를 봤을 때 3번으로 봤을 영화는 형태로 학습을 시켜서 프리 트레이닝 시킬수 있음\n",
    "\n",
    "### 추천하고 싶은 기업\n",
    "- 사용자와 인털엑티브하게 하는 서비스를 만드는 기업\n",
    "    - 예를들어 사용자가 번역을 평어체로 해주면 좋겠다. 어떻게 번역해주면 좋겠다는 것을 바로바로 바꾸어주는? 그런 기술\n",
    "- 레이블링을 효율적으로 해줄수 있는 기업"
   ]
  },
  {
   "cell_type": "code",
   "execution_count": null,
   "metadata": {},
   "outputs": [],
   "source": []
  }
 ],
 "metadata": {
  "kernelspec": {
   "display_name": "Python 3",
   "language": "python",
   "name": "python3"
  },
  "language_info": {
   "codemirror_mode": {
    "name": "ipython",
    "version": 3
   },
   "file_extension": ".py",
   "mimetype": "text/x-python",
   "name": "python",
   "nbconvert_exporter": "python",
   "pygments_lexer": "ipython3",
   "version": "3.8.5"
  }
 },
 "nbformat": 4,
 "nbformat_minor": 4
}
