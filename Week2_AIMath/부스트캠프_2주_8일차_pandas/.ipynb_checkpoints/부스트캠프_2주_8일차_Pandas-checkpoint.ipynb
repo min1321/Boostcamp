{
 "cells": [
  {
   "cell_type": "code",
   "execution_count": 2,
   "metadata": {},
   "outputs": [],
   "source": [
    "import pandas as pd\n",
    "import numpy as np"
   ]
  },
  {
   "cell_type": "markdown",
   "metadata": {},
   "source": [
    "# Panas"
   ]
  },
  {
   "cell_type": "markdown",
   "metadata": {},
   "source": [
    "- Pandas란?\n",
    "    - 구조화된 데이터 처리를 지원하는 Python 라이브러리\n",
    "    - panel datas -> pandas\n",
    "    - numpy와 통합하여 강력한 스프레드 시트 처리기능 제공\n",
    "    - 인덱싱, 연산용, 전처리 함수 제공\n",
    "    - 데이터 처리 통계 분석을 위해 사용\n",
    "    - 테이블 형태의 데이타"
   ]
  },
  {
   "cell_type": "markdown",
   "metadata": {},
   "source": [
    "- Data table, sample 안에\n",
    "    - attribuet, field, feature, column 같은 말\n",
    "    - instance, tuple, row 같은말\n",
    "    - data 는 값 또는 value 라고도 함"
   ]
  },
  {
   "cell_type": "markdown",
   "metadata": {},
   "source": [
    "- 판다스의 구성 ( 데이터 프레임??, 시리즈?? )\n",
    "    - 컬럼 한줄을 시리즈라고 한다\n",
    "    - 전체 데이터를 데이터 프레임이라 한다\n",
    "    - 리스트 타입을 시리즈로 만들때는 Series(data = list_data)하면 됨"
   ]
  },
  {
   "cell_type": "markdown",
   "metadata": {},
   "source": [
    "- DataFrame\n",
    "    - 시리즈 데이터가 모여서 데이터 테이블 형태로 구성됨\n",
    "    - 메모리 구조는 \n",
    "    - 컬럼별로 타입은 다르게 설정 가능\n",
    "    - 보통 csv 또는 Excel 타입으로 불러냄"
   ]
  },
  {
   "cell_type": "markdown",
   "metadata": {},
   "source": [
    "- 인덱싱?\n",
    "    - df.loc 인덱스의 명으로 접근함\n",
    "    - df.iloc 인덱스 넘버로 접근 가능"
   ]
  },
  {
   "cell_type": "markdown",
   "metadata": {},
   "source": [
    "- 셀렉션??\n",
    "    - df\\[\"account\"\\].head(3)\n",
    "    - index는 숫자로 쓰는 경우가 많음\n",
    "    - df\\[불린\\] 을 하면 필요한 것만 당겨온다\n",
    "    - df\\[\\[인덱스 리스트\\]\\] 하면 인덱스 해당하는 row만 불러옴"
   ]
  },
  {
   "cell_type": "markdown",
   "metadata": {},
   "source": [
    "- 리인덱스 시켜줄때 (reindex)\n",
    "    - df.index = list(range(0,15) 이런식으로 가능\n",
    "    - df.reset_index(drop = True) 를하면 기존 인덱스 날리고 함\n",
    "- 분석시 Data Frame 값?\n",
    "    - 안바꾸는 것을 권장함, 하지만 inplace = True를 하면 바꿀수는 있음\n",
    "    - 한 row를 없애려면 drop 쓰면 되고 inplace = Ture를 해주어야 날아감"
   ]
  },
  {
   "cell_type": "markdown",
   "metadata": {},
   "source": [
    "- dataframe operation\n",
    "    - index 기준으로 연산을 수행함\n",
    "        - s1.add(s2)를 하면 겹치지 않는 부분은 NaN이 됨\n",
    "        - s1.add(s2, fill_value=0) 을 해주면 없는 데이터는 0으로 채우고 덧셈함"
   ]
  },
  {
   "cell_type": "markdown",
   "metadata": {},
   "source": [
    "- series + dataframe 을 해주면 안됨 NaN 출력됨\n",
    "    - 하지만 axis를 설정해주면 그 방향으로 시리즈의 broadcasting이 일어나고, 연산이 일어남\n",
    "        - ex. df.add(s2, axis=0)"
   ]
  },
  {
   "cell_type": "markdown",
   "metadata": {},
   "source": [
    "- lambda map apply\n",
    "    - map 은 각각 매핑해준다 시리즈에서 활용가능\n",
    "    - 와.. 성별 male은 0 female은 1로 해줘라 할거면??\n",
    "        - df\\[\"sex\"\\] = df\\['sex'\\].map({\"male\" : 0, \"female\" : 1})\n",
    "        - df\\[\"sex\"\\] = df\\['sex'\\].replace({\"male\" : 0, \"female\" : 1})\n",
    "        - df\\[\"sex\"\\] = df\\['sex'\\].replace(\\[\"male\", \"female\"\\], \\[0, 1\\])"
   ]
  },
  {
   "cell_type": "markdown",
   "metadata": {},
   "source": [
    "- apply 는?\n",
    "    - map과 달리 serise 전체 에 대해 해당 함수 적용\n",
    "\n",
    "- apply map은?\n",
    "    - 모든값에 apply를 해줄 때 사용함"
   ]
  },
  {
   "cell_type": "markdown",
   "metadata": {},
   "source": [
    "- 판다스의 built_in 함수\n",
    "    - describe\n",
    "        - Numeric type의 데이터 요약 정보를 보여줌\n",
    "    - unique\n",
    "        - 시리즈의 유일한 값 list를 반환함\n",
    "    - isnull, sum()\n",
    "        - df.isnull().sum() 하면 빈값의 합을 보여줌\n",
    "    - correlation, covariance"
   ]
  },
  {
   "cell_type": "code",
   "execution_count": null,
   "metadata": {},
   "outputs": [],
   "source": []
  }
 ],
 "metadata": {
  "kernelspec": {
   "display_name": "Python 3",
   "language": "python",
   "name": "python3"
  },
  "language_info": {
   "codemirror_mode": {
    "name": "ipython",
    "version": 3
   },
   "file_extension": ".py",
   "mimetype": "text/x-python",
   "name": "python",
   "nbconvert_exporter": "python",
   "pygments_lexer": "ipython3",
   "version": "3.8.5"
  }
 },
 "nbformat": 4,
 "nbformat_minor": 4
}
