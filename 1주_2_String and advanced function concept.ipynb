{
 "cells": [
  {
   "cell_type": "markdown",
   "metadata": {},
   "source": [
    "- 정수형 int 4바이트\n",
    "- 실수형 float 8바이트\n",
    "\n",
    "- 문자열 특징\n",
    "    - 슬라이싱 : text\\[0:6\\] 과 같은 형태로 사용\n",
    "    - 역슬레시 : \\\\를 사용하여 '를 문자열에 포함하거나, 줄바꿈을 표시함"
   ]
  },
  {
   "cell_type": "markdown",
   "metadata": {},
   "source": [
    "- call by object reference\n",
    "    - call by value : 함수에서 값만 넘기는것 f(a) <<< a값이 복사되어서 들어가기만함\n",
    "    - call by reference : pointer 개념  f(a)에서 에서 a값이 내부에서 변하면 같이 변함\n",
    "        - swqp 개념에 많이 사용함\n",
    "        - list가 안들어가고 -5 ~ 256사이의 값만 들어가면 value만 복사됨"
   ]
  },
  {
   "cell_type": "code",
   "execution_count": 3,
   "metadata": {},
   "outputs": [
    {
     "name": "stdout",
     "output_type": "stream",
     "text": [
      "[1, 2]\n"
     ]
    }
   ],
   "source": [
    "def spam(eggs):\n",
    "    eggs.append(1)  # ham도 같은 주소를 참조하고 있어서 1이 추가됨\n",
    "    eggs.append(2)\n",
    "    del eggs[0]\n",
    "    eggs = [2,3]  # eggs가 새로 선언되면 주소가 끊어짐\n",
    "ham = [0]\n",
    "spam(ham)\n",
    "print(ham)"
   ]
  },
  {
   "cell_type": "markdown",
   "metadata": {},
   "source": [
    "변수범위(Scoping Rule) \n",
    " - 지역변수 : 함수 밖에는 영향주지 않음\n",
    " - 전역변수 : global s 를 설정해주면 함수 내에서 바뀐것이 밖에도 반영됨"
   ]
  },
  {
   "cell_type": "markdown",
   "metadata": {},
   "source": [
    "재귀함수 (recursive Function)\n",
    " - 자기가 자기자신을 계속 호출하면서 loop를 돌아감"
   ]
  },
  {
   "cell_type": "markdown",
   "metadata": {},
   "source": [
    "function type hints\n",
    " - dynamic typing : 처음 함수를 사용하는 사용자가 interface를 알기 어렵다는 단점\n",
    " - 인터페이스 명확히한다는 장점 있음  \n",
    " - 함수내 변수의 타입을 정해주고 출력물의 타입을 알려줌  \n",
    " \n",
    "Docstring  \n",
    " - 함수 사용법 및 설명을 적어놓는 것\n",
    " - vs code에서 받아서 사용 가능  "
   ]
  },
  {
   "cell_type": "markdown",
   "metadata": {},
   "source": [
    "함수를 사용하는 경우\n",
    " - 공통사용하는 경우 함수로\n",
    " - 복잡한 수식은 함수로\n",
    " - 복잡한 조건은 함수로"
   ]
  }
 ],
 "metadata": {
  "kernelspec": {
   "display_name": "Python 3",
   "language": "python",
   "name": "python3"
  },
  "language_info": {
   "codemirror_mode": {
    "name": "ipython",
    "version": 3
   },
   "file_extension": ".py",
   "mimetype": "text/x-python",
   "name": "python",
   "nbconvert_exporter": "python",
   "pygments_lexer": "ipython3",
   "version": "3.8.5"
  }
 },
 "nbformat": 4,
 "nbformat_minor": 4
}
