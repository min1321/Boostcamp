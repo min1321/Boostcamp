{
 "cells": [
  {
   "cell_type": "markdown",
   "metadata": {},
   "source": [
    "## contents\n",
    "1. Computer Vision이란? + Image Classification 1\n",
    "    - 그래픽스 : 3D 모델을\n",
    "    - CV란? : 영상이나, 사진으로 부터 3D Model을 구한다 (Inverse graphics)\n",
    "2. Annotation efficient learning\n",
    "3. Image Classification 2\n",
    "4. semantic segmentation\n",
    "5. Object detection\n",
    "6. CNN visualization\n",
    "7. Inst./Panop.segmentation and landmark localization\n",
    "8. Conditional Generative Model\n",
    "9. Multi-model learning\n",
    "10. 3D understanding"
   ]
  },
  {
   "cell_type": "code",
   "execution_count": null,
   "metadata": {},
   "outputs": [],
   "source": []
  }
 ],
 "metadata": {
  "kernelspec": {
   "display_name": "Python 3",
   "language": "python",
   "name": "python3"
  },
  "language_info": {
   "codemirror_mode": {
    "name": "ipython",
    "version": 3
   },
   "file_extension": ".py",
   "mimetype": "text/x-python",
   "name": "python",
   "nbconvert_exporter": "python",
   "pygments_lexer": "ipython3",
   "version": "3.8.5"
  }
 },
 "nbformat": 4,
 "nbformat_minor": 4
}
