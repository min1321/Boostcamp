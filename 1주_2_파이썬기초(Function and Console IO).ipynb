{
 "cells": [
  {
   "cell_type": "markdown",
   "metadata": {},
   "source": [
    "함수 : 어떤 일을 수행하는 코드의 덩어리"
   ]
  },
  {
   "cell_type": "code",
   "execution_count": 1,
   "metadata": {},
   "outputs": [],
   "source": [
    "def calculate_rectangle(x, y):\n",
    "    return x * y"
   ]
  },
  {
   "cell_type": "markdown",
   "metadata": {},
   "source": [
    "- 함수의 장점\n",
    "    - 반복적인 수행을 1회만 작성 후 호출 가능\n",
    "    - 코드를 논리적인 단위로 분리\n",
    "    - 캡슐화 : 인터페이스만 알면 타인의 코드 사용"
   ]
  },
  {
   "cell_type": "code",
   "execution_count": 2,
   "metadata": {},
   "outputs": [],
   "source": [
    "# def 함수 이름 (parmaeter #1, #2):  \n",
    "#     수행문\\#1(statements)   \"인덴테이션 Tab으로 띄워주는 것\"\n",
    "#     return <반한값>"
   ]
  },
  {
   "cell_type": "markdown",
   "metadata": {},
   "source": [
    "- 함수는 상단에 적어주는 것이 좋음"
   ]
  },
  {
   "cell_type": "code",
   "execution_count": 9,
   "metadata": {},
   "outputs": [
    {
     "name": "stdout",
     "output_type": "stream",
     "text": [
      "a 200\n"
     ]
    }
   ],
   "source": [
    "print(\"a\", 200)"
   ]
  },
  {
   "cell_type": "markdown",
   "metadata": {},
   "source": [
    "함수 안에 함수를 구현하는 방법  \n",
    "- 함수와 함수 사이에는 두깐 띄운다"
   ]
  },
  {
   "cell_type": "code",
   "execution_count": 7,
   "metadata": {},
   "outputs": [],
   "source": [
    "def fx(x):\n",
    "    return 2 * x + 7\n",
    "\n",
    "\n",
    "def gx(x):\n",
    "    return x ** 2"
   ]
  },
  {
   "cell_type": "code",
   "execution_count": 8,
   "metadata": {},
   "outputs": [
    {
     "data": {
      "text/plain": [
       "151"
      ]
     },
     "execution_count": 8,
     "metadata": {},
     "output_type": "execute_result"
    }
   ],
   "source": [
    "x = 2\n",
    "fx(x) + gx(x) + fx(gx(x)) + gx(fx(x))"
   ]
  },
  {
   "cell_type": "markdown",
   "metadata": {},
   "source": [
    "- parameter : 함수의 입력 값 인터페이스  f(x)에서 x에 해당\n",
    "- argument : 실제 parameter에 대입된 값 f(2)에서 2에 해당"
   ]
  },
  {
   "cell_type": "markdown",
   "metadata": {},
   "source": [
    "- 함수 내부 주의사항\n",
    "    - return을 하는 것과 print를 하는 것은 다름"
   ]
  },
  {
   "cell_type": "code",
   "execution_count": 10,
   "metadata": {},
   "outputs": [],
   "source": [
    "list_ex = [5, 4, 3, 2, 1]"
   ]
  },
  {
   "cell_type": "code",
   "execution_count": 11,
   "metadata": {},
   "outputs": [
    {
     "data": {
      "text/plain": [
       "[1, 2, 3, 4, 5]"
      ]
     },
     "execution_count": 11,
     "metadata": {},
     "output_type": "execute_result"
    }
   ],
   "source": [
    "sorted(list_ex)"
   ]
  },
  {
   "cell_type": "code",
   "execution_count": 12,
   "metadata": {},
   "outputs": [
    {
     "data": {
      "text/plain": [
       "[5, 4, 3, 2, 1]"
      ]
     },
     "execution_count": 12,
     "metadata": {},
     "output_type": "execute_result"
    }
   ],
   "source": [
    "list_ex"
   ]
  },
  {
   "cell_type": "code",
   "execution_count": 13,
   "metadata": {},
   "outputs": [],
   "source": [
    "list_ex.sort()"
   ]
  },
  {
   "cell_type": "code",
   "execution_count": 15,
   "metadata": {},
   "outputs": [
    {
     "data": {
      "text/plain": [
       "[1, 2, 3, 4, 5]"
      ]
     },
     "execution_count": 15,
     "metadata": {},
     "output_type": "execute_result"
    }
   ],
   "source": [
    "list_ex"
   ]
  },
  {
   "cell_type": "markdown",
   "metadata": {},
   "source": [
    "CLI환경 : Command Line Interface  \n",
    "input() string type으로만 받을 수 있음"
   ]
  },
  {
   "cell_type": "markdown",
   "metadata": {},
   "source": [
    "포매팅  \n",
    "- 3가지방법 있음  \n",
    "    - %string : \"%datatype\"%(variable)  \n",
    "        - %8.2f 는 전체 8칸으로 하고 소수점은 2자리까지 나타내라는 뜻  \n",
    "    - format 함수  \n",
    "       \"{0} 아아아 {1:10.5f}\".format(\"Apple\", 0.9)  \n",
    "       이렇게 {1:10.5f} 처럼 자리숫자랑 소수점 자리도 정해줄 수 있음  \n",
    "       {0:<10s} 는 10칸 비우고 왼쪽 정렬해라는 뜻 (padding이라고 함)  \n",
    "    - fstring 사용방법 (왼쪽 정렬이 기본임, \\*을 넣으면 별로채움, ^는 가운데 정렬)  \n",
    "      name = \"choi\"   \n",
    "      count = 10  \n",
    "      f\"메모 내용 및 스트링{name}, 머라머라{count}\""
   ]
  },
  {
   "cell_type": "code",
   "execution_count": 23,
   "metadata": {},
   "outputs": [
    {
     "name": "stdout",
     "output_type": "stream",
     "text": [
      "메모 내용 및 스트링choi, 머라머라10\n",
      "메모 내용 및 스트링***choi***, 머라머라10\n",
      "메모 내용 및 스트링choi******, 머라머라10\n"
     ]
    }
   ],
   "source": [
    "name = \"choi\"\n",
    "count = 10  \n",
    "print(f'메모 내용 및 스트링{name}, 머라머라{count}')\n",
    "print(f'메모 내용 및 스트링{name:*^10}, 머라머라{count}')\n",
    "print(f'메모 내용 및 스트링{name:*<10}, 머라머라{count}')"
   ]
  },
  {
   "cell_type": "code",
   "execution_count": 32,
   "metadata": {},
   "outputs": [],
   "source": [
    "# Lab화씨 변환기\n",
    "def fahrenheit():\n",
    "    print(\"본 프로;그램은 섭씨를 화씨로 변환해주는 프로그램입니다.\")\n",
    "    C = float(input(\"변환하고 싶은 섭씨 온도를 입력해 주세요: \"))\n",
    "    F = ((9/5) * C) + 32\n",
    "    print(f\"섭씨온도 : {C:.1f}\")\n",
    "    print(f\"화씨온도 : {F:.2f}\")\n",
    "    "
   ]
  },
  {
   "cell_type": "code",
   "execution_count": 33,
   "metadata": {},
   "outputs": [
    {
     "name": "stdout",
     "output_type": "stream",
     "text": [
      "본 프로;그램은 섭씨를 화씨로 변환해주는 프로그램입니다.\n",
      "변환하고 싶은 섭씨 온도를 입력해 주세요: 32.2\n",
      "섭씨온도 : 32.2\n",
      "화씨온도 : 89.96\n"
     ]
    }
   ],
   "source": [
    "fahrenheit()"
   ]
  },
  {
   "cell_type": "code",
   "execution_count": null,
   "metadata": {},
   "outputs": [],
   "source": []
  }
 ],
 "metadata": {
  "kernelspec": {
   "display_name": "Python 3",
   "language": "python",
   "name": "python3"
  },
  "language_info": {
   "codemirror_mode": {
    "name": "ipython",
    "version": 3
   },
   "file_extension": ".py",
   "mimetype": "text/x-python",
   "name": "python",
   "nbconvert_exporter": "python",
   "pygments_lexer": "ipython3",
   "version": "3.8.5"
  }
 },
 "nbformat": 4,
 "nbformat_minor": 4
}
