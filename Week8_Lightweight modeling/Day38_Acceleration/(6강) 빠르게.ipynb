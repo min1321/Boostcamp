{
 "cells": [
  {
   "cell_type": "markdown",
   "metadata": {},
   "source": [
    "# (6강) 빠르게\n",
    "\n",
    "## 강의 소개\n",
    "- 가속화\n",
    "- 동일한 연산을 더 빠르게 진행\n",
    "- 근사한 연산을 더 빠르게 수행하는 것이 목표\n",
    "- 파이썬과 C언어를 비교\n",
    "\n",
    "## Further Question\n",
    "1) 이번 강의는 lightweight modeling과 어떤 관계가 있을까? (이 강의를 만든 목적은 무엇일까?)\n",
    "\n",
    "2) 두 계산에 차이가 발생하는 이유는 뭘까?(p 4)\n",
    "\n",
    "3) Compression과 acceleration의 관계는? (p 22)\n",
    "\n",
    "## 목차"
   ]
  }
 ],
 "metadata": {
  "kernelspec": {
   "display_name": "Python 3",
   "language": "python",
   "name": "python3"
  },
  "language_info": {
   "codemirror_mode": {
    "name": "ipython",
    "version": 3
   },
   "file_extension": ".py",
   "mimetype": "text/x-python",
   "name": "python",
   "nbconvert_exporter": "python",
   "pygments_lexer": "ipython3",
   "version": "3.8.5"
  }
 },
 "nbformat": 4,
 "nbformat_minor": 4
}
