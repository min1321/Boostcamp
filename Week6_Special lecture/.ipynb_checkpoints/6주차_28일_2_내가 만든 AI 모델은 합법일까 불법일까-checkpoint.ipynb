{
 "cells": [
  {
   "cell_type": "markdown",
   "metadata": {},
   "source": [
    "# 내가 만든 AI 모델은 합법일까 불법일까\n",
    "\n",
    "- 저작권 없는 것은 이용 가능\n",
    "- 저작권 있는 경우 허가를 받아서 사용 가능\n",
    "\n",
    "- 아니면 라이센스 확인후 지켜서 사용 가능 (CCL, Creative common lisence)\n",
    "    - 라이센스\n",
    "        BY : 저작자 표시하기\n",
    "        ND : 변경 금지\n",
    "        NC : 비영리\n",
    "        SA : 동일 조건으로 변경 허락"
   ]
  },
  {
   "cell_type": "code",
   "execution_count": null,
   "metadata": {},
   "outputs": [],
   "source": []
  }
 ],
 "metadata": {
  "kernelspec": {
   "display_name": "Python 3",
   "language": "python",
   "name": "python3"
  },
  "language_info": {
   "codemirror_mode": {
    "name": "ipython",
    "version": 3
   },
   "file_extension": ".py",
   "mimetype": "text/x-python",
   "name": "python",
   "nbconvert_exporter": "python",
   "pygments_lexer": "ipython3",
   "version": "3.8.5"
  }
 },
 "nbformat": 4,
 "nbformat_minor": 4
}
