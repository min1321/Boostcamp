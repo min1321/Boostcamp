{
 "cells": [
  {
   "cell_type": "markdown",
   "metadata": {},
   "source": [
    "## 이번 특강은 외부 공개가 어려워 소감으로 대체함\n",
    "\n",
    "AI 직군에도 다양한 분야가 있다는 것을 알 수 있어서 좋았고, 실제 서비스향 AI 모델을 개발할때 고려해야할 점이 많다는 것도 알 수 있었다.\n",
    "AI 엔지니어로서의 자세"
   ]
  }
 ],
 "metadata": {
  "kernelspec": {
   "display_name": "Python 3",
   "language": "python",
   "name": "python3"
  },
  "language_info": {
   "codemirror_mode": {
    "name": "ipython",
    "version": 3
   },
   "file_extension": ".py",
   "mimetype": "text/x-python",
   "name": "python",
   "nbconvert_exporter": "python",
   "pygments_lexer": "ipython3",
   "version": "3.8.5"
  }
 },
 "nbformat": 4,
 "nbformat_minor": 4
}
